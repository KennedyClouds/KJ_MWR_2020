{
 "cells": [
  {
   "cell_type": "markdown",
   "metadata": {},
   "source": [
    "Descrption: This program takes a sequence of snapshots (images) from the UND Skycam, arranges them in panel form, then places annotations on them."
   ]
  },
  {
   "cell_type": "code",
   "execution_count": null,
   "metadata": {
    "scrolled": true
   },
   "outputs": [],
   "source": [
    "%matplotlib inline\n",
    "import matplotlib.pyplot as plt\n",
    "import matplotlib.image as mpimg\n",
    "import numpy as np\n",
    "\n",
    "BASE_DIR = 'data/SKYCAM/'\n",
    "files = ['skycam_1537.png','skycam_1737.png','skycam_1937.png','skycam_2137.png','skycam_2217.png','skycam_2312.png']\n",
    "labels = ['(a)','(b)','(c)','(d)','(e)','(f)']\n",
    "titles = ['1537','1737','1937','2137','2217','2312']\n",
    "fig = plt.figure(figsize=(10,10),dpi=300)\n",
    "for i in range(1, 7):\n",
    "    fig.add_subplot(3, 2, i)\n",
    "    img=mpimg.imread(BASE_DIR+files[i-1])\n",
    "    imgplot = plt.imshow(img)\n",
    "    plt.axis('off')\n",
    "    plt.text(10, 100, labels[i-1], fontsize=12,weight='bold',color=\"black\")\n",
    "    plt.title(titles[i-1]+' UTC - 24 Feb. 2019',fontweight=\"bold\",fontsize=12)\n",
    "    \n",
    "plt.subplots_adjust(hspace = 0.1, wspace = 0.01)\n",
    "plt.savefig('KJ_MWR_2020_Fig08_final.png', dpi=300, bbox_inches='tight')\n",
    "plt.savefig('KJ_MWR_2020_Fig08_final', format='pdf', bbox_inches='tight')\n",
    "plt.show()"
   ]
  }
 ],
 "metadata": {
  "kernelspec": {
   "display_name": "Python 3",
   "language": "python",
   "name": "python3"
  },
  "language_info": {
   "codemirror_mode": {
    "name": "ipython",
    "version": 3
   },
   "file_extension": ".py",
   "mimetype": "text/x-python",
   "name": "python",
   "nbconvert_exporter": "python",
   "pygments_lexer": "ipython3",
   "version": "3.7.3"
  }
 },
 "nbformat": 4,
 "nbformat_minor": 2
}
