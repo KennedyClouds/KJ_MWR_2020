{
 "cells": [
  {
   "cell_type": "markdown",
   "metadata": {},
   "source": [
    "<p>Description: This code produces a four panel plot displaying GOES16 Day-Snow-Fog products. For a quick-guide to this product, please see:</p>\n",
    "<a href='http://rammb.cira.colostate.edu/training/visit/quick_guides/QuickGuide_DaySnowFog.pdf'>VISIT Day-Snow-Cloud Guide</a>\n",
    "<p>Satpy is used to plot and create the composites. The Day-Snow-Fog product is not natively included. A custom composite and enhancement profile must be included as follows:</p>"
   ]
  },
  {
   "cell_type": "raw",
   "metadata": {},
   "source": [
    "Within Composites: visir.yaml\n",
    "    blsn:\n",
    "        compositor: !!python/name:satpy.composites.GenericCompositor\n",
    "        prerequisites:\n",
    "        - wavelength: 0.85\n",
    "        - wavelength: 1.63\n",
    "        - compositor: !!python/name:satpy.composites.DifferenceCompositor\n",
    "          prerequisites:\n",
    "          - wavelength: 3.9\n",
    "          - wavelength: 10.3     \n",
    "        standard_name: blsn"
   ]
  },
  {
   "cell_type": "raw",
   "metadata": {},
   "source": [
    "Within Enhancements: generic.yaml\n",
    "    blsn_default:\n",
    "        standard_name: blsn\n",
    "        operations:\n",
    "        - name: stretch\n",
    "          method: *stretchfun\n",
    "          kwargs:\n",
    "            stretch: crude\n",
    "            min_stretch: [0, 0, 0]\n",
    "            max_stretch: [80, 50, 25]\n",
    "        - name: gamma\n",
    "          method: *gammafun\n",
    "          kwargs:\n",
    "            gamma: [1.9, 1.9, 1.9]"
   ]
  },
  {
   "cell_type": "markdown",
   "metadata": {},
   "source": [
    "Note that ranges (stretch) and gamma settings are modified from the suggested settings in the VISIT guide. This is to acount for the large solar zenith angle present during this time of year at the latitude of the study. The modifications slightly improve the contrast and increase the brightness of the composites. "
   ]
  },
  {
   "cell_type": "code",
   "execution_count": null,
   "metadata": {
    "scrolled": true
   },
   "outputs": [],
   "source": [
    "import warnings\n",
    "warnings.simplefilter('ignore')\n",
    "import h5py\n",
    "from satpy import Scene\n",
    "from satpy.writers import get_enhanced_image, to_image\n",
    "from glob import glob\n",
    "import matplotlib as mpl\n",
    "import matplotlib.pyplot as plt\n",
    "import cartopy.crs as ccrs\n",
    "import cartopy.feature as cfeature\n",
    "import pandas as pd\n",
    "from metpy.calc import wind_components\n",
    "from metpy.plots import StationPlot\n",
    "from metpy.units import units\n",
    "%matplotlib inline\n",
    "#define boundaries for radar ob region\n",
    "radlons = [-97.826, -96.826, -96.826, -97.826,-97.826]\n",
    "radlats = [48.028, 48.028, 47.028, 47.028,48.028]\n",
    "\n",
    "#Directories, file names, and panels\n",
    "SFC_BASE_DIR = 'data/SFC/'\n",
    "SAT_BASE_DIR = 'data/GOES16/'\n",
    "sfc_files=['data_022419_1535.txt','data_022419_1735.txt','data_022419_1935.txt','data_022419_2135.txt']\n",
    "sat_times=['20190551537137','20190551737137','20190551937137','20190552137137']\n",
    "letter=['(a)','(b)','(c)','(d)']\n",
    "mpl.rcParams['axes.linewidth'] = 4 #set the value globally\n",
    "\n",
    "#Create figure \n",
    "fig = plt.figure(figsize=(10,15), dpi=600) #create fig\n",
    "ax = fig.subplots(nrows=2, ncols=2,subplot_kw={'projection': ccrs.PlateCarree()})\n",
    "#Loop through and create the four panels\n",
    "for i in range(0, 2):\n",
    "    for j in range(0, 2):\n",
    "\n",
    "        index=2*i+j\n",
    "        #Process station data using pandas\n",
    "        f=SFC_BASE_DIR+sfc_files[index]\n",
    "        data = pd.read_csv(f, header=0,names=['stid', 'time', 'lon', 'lat', 'air_temperature', 'dew_point_temperature',\n",
    "                                      'wind_dir', 'wind_speed', 'slp', 'visibility', 'wind_gust', 'weather', \n",
    "                                      'cloud_fraction'], na_values='M')\n",
    "\n",
    "        u, v = wind_components((data['wind_speed'].values * units.knots),\n",
    "                       data['wind_dir'].values * units.degree)\n",
    "\n",
    "        #Specify Date from filename\n",
    "        sat_date=sat_times[index]\n",
    "        hour=sat_date[7:11]\n",
    "        #Load scene, grabs all data with given start time. For GOES16 L1B -> C01-C16\n",
    "        scn = Scene(reader='abi_l1b', filenames=glob(SAT_BASE_DIR+'OR_ABI-L1b-RadC-*s'+sat_date+'*.nc'))\n",
    "        scn.load(['blsn']) #load BLSN composite scheme\n",
    "        new_scn = scn.resample(resampler='native') #resample to common grid\n",
    "        var = get_enhanced_image(new_scn['blsn']).data #Perform enhancements to composite\n",
    "        var = var.transpose('y', 'x', 'bands') #transpose data for plotting\n",
    "        abi_crs = var.attrs['area'].to_cartopy_crs()\n",
    "        ax[i,j].set_extent([-98, -94, 43.5, 50], crs=ccrs.PlateCarree())\n",
    "        ax[i,j].imshow(var.data, extent=(var.x[0], var.x[-1], var.y[-1], var.y[0]), origin='upper',transform=abi_crs)\n",
    "        ax[i,j].add_feature(cfeature.COASTLINE.with_scale('10m'), edgecolor='black')\n",
    "        ax[i,j].add_feature(cfeature.STATES.with_scale('10m'), edgecolor='black')\n",
    "        ax[i,j].set_title(hour+' UTC - 24 Feb. 2019',fontweight=\"bold\",fontsize=12)\n",
    "        #Metpy,create wind barbs and annotated values (wind gusts/visibility)\n",
    "        stationplot = StationPlot(ax[i,j], data['lon'].values, data['lat'].values, clip_on=True,\n",
    "                                  transform=ccrs.PlateCarree(), fontsize=6)\n",
    "        stationplot.plot_barb(u, v,linewidth=0.5,zorder=2)\n",
    "        stationplot.plot_parameter((0.5, -0.25), data['visibility'],formatter='4.2f',fontsize=5,zorder=2)\n",
    "        stationplot.plot_parameter((1, 0.75), data['wind_gust'],formatter='2.0f',color='tan',fontsize=5,zorder=2)\n",
    "        #annotate a bunch of stuff\n",
    "        ax[i,j].text(-97.9, 49.8, letter[index], fontsize=12,weight='bold',color=\"white\",zorder=3)\n",
    "        ax[i,j].plot(radlons, radlats, transform=ccrs.PlateCarree(),linewidth=2,color=\"white\",zorder=1)\n",
    "        ax[i,j].plot(-97.08697021,47.92184258,color='yellow',transform=ccrs.PlateCarree(),marker='*',zorder=2,markersize=10)\n",
    "        ax[i,j].text(-95.6506-0.3,45.3319,'KBBB',color='yellow',transform=ccrs.PlateCarree(),fontsize=5)\n",
    "        ax[i,j].text(-97.08697021-0.4,47.92184258,'KGFK',color='yellow',transform=ccrs.PlateCarree(),fontsize=5)\n",
    "        ax[i,j].text(-96.1850-0.3,48.0657,'KTVF',color='yellow',transform=ccrs.PlateCarree(),fontsize=5)\n",
    "        ax[i,j].text(-97.3256,47.5278,'KMVX',color='yellow',transform=ccrs.PlateCarree(),fontsize=5,ha='center',va='center')\n",
    "\n",
    "#Add panel specific annotations    \n",
    "lons = [-95.76, -94.156, -94.156, -95.76,-95.76]\n",
    "lats = [46, 46, 44, 44,46]\n",
    "ax[0,1].plot(lons, lats, transform=ccrs.PlateCarree(),linewidth=2,color=\"yellow\",zorder=1)\n",
    "lons = [-95.76, -95.307, -95.307, -95.76,-95.76]\n",
    "lats = [45.673, 45.673, 45.42, 45.42,45.673]\n",
    "ax[0,1].plot(lons, lats, transform=ccrs.PlateCarree(),linewidth=2,color=\"red\",zorder=1)\n",
    "\n",
    "#Adjust subplot spacing\n",
    "plt.subplots_adjust(hspace = 0.1, wspace = 0.01)\n",
    "plt.savefig('KJ_MWR_2020_Fig03_final.png', dpi=600, bbox_inches='tight')\n",
    "plt.savefig('KJ_MWR_2020_Fig03_final.pdf', format='pdf', bbox_inches='tight')\n",
    "plt.show()"
   ]
  },
  {
   "cell_type": "code",
   "execution_count": null,
   "metadata": {},
   "outputs": [],
   "source": []
  }
 ],
 "metadata": {
  "kernelspec": {
   "display_name": "Python 3",
   "language": "python",
   "name": "python3"
  },
  "language_info": {
   "codemirror_mode": {
    "name": "ipython",
    "version": 3
   },
   "file_extension": ".py",
   "mimetype": "text/x-python",
   "name": "python",
   "nbconvert_exporter": "python",
   "pygments_lexer": "ipython3",
   "version": "3.7.3"
  }
 },
 "nbformat": 4,
 "nbformat_minor": 2
}
