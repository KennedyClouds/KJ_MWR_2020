{
 "cells": [
  {
   "cell_type": "markdown",
   "metadata": {},
   "source": [
    "Description: Figure 6 is a panel from the ESA Sentinel-2 satellite: https://sentinel.esa.int/web/sentinel/missions/sentinel-2   The overpass was stiched together and composisted using the SNAP - ESA Sentinel Application Platform v7.0.0, http://step.esa.int"
   ]
  },
  {
   "cell_type": "markdown",
   "metadata": {},
   "source": [
    "<b>Products used from https://scihub.copernicus.eu/dhus/#/home </b>\n",
    "<p>S2B_MSIL1C_20190224T171309_N0207_R112_T14TQQ_20190224T220930</p>\n",
    "<p>S2B_MSIL1C_20190224T171309_N0207_R112_T14TQR_20190224T220930</p>\n",
    "<p>S2B_MSIL1C_20190224T171309_N0207_R112_T14TQS_20190224T220930</p>\n",
    "<p>S2B_MSIL1C_20190224T171309_N0207_R112_T15TUK_20190224T220930</p>\n",
    "<p>S2B_MSIL1C_20190224T171309_N0207_R112_T15TUL_20190224T220930</p>\n",
    "<p>S2B_MSIL1C_20190224T171309_N0207_R112_T15TUM_20190224T220930</p>"
   ]
  },
  {
   "cell_type": "markdown",
   "metadata": {},
   "source": [
    "<b>RGB Settings </b>\n",
    "<p>Red = Band 11 = 1.61 um</p> \n",
    "<p>Green = Band 11 = 1.61 um </p> \n",
    "<p>Blue = Band 8 = 0.84 um</p> \n",
    "Note: While Band 11 has 60 meter resolution, Band 8 has 10 meter resolution. \n",
    "Band 11 was resampled to 10 meters using the UTM WGS84 geocoord system. The files above were then mosaiced. "
   ]
  },
  {
   "cell_type": "markdown",
   "metadata": {},
   "source": [
    "<b> Domains </b>\n",
    "<p><i> Larger subset </i></p>\n",
    "<p>Latitude: 44 to 46 N</p>\n",
    "<p>Longitude: -95.76 to -94.156 W</p>\n",
    "<p><i> Smaller subset </i></p>\n",
    "<p>Latitude: 45.42 to 45.673 N</p>\n",
    "<p>Longitude -95.76 to -95.307 W</p>\n"
   ]
  },
  {
   "cell_type": "markdown",
   "metadata": {},
   "source": [
    "<b>SNAP color settings </b>\n",
    "<p>Red:\t0.05 - 0.25\t\tGamma: 1.0</p>\n",
    "<p>Green: 0.05 - 0.25\t\tGamma: 1.0</p>\n",
    "<p>Blue:\t0.2 - 0.8\t\tGamma: 1.4</p>"
   ]
  },
  {
   "cell_type": "code",
   "execution_count": null,
   "metadata": {},
   "outputs": [],
   "source": []
  }
 ],
 "metadata": {
  "kernelspec": {
   "display_name": "Python 3",
   "language": "python",
   "name": "python3"
  },
  "language_info": {
   "codemirror_mode": {
    "name": "ipython",
    "version": 3
   },
   "file_extension": ".py",
   "mimetype": "text/x-python",
   "name": "python",
   "nbconvert_exporter": "python",
   "pygments_lexer": "ipython3",
   "version": "3.7.3"
  }
 },
 "nbformat": 4,
 "nbformat_minor": 2
}
